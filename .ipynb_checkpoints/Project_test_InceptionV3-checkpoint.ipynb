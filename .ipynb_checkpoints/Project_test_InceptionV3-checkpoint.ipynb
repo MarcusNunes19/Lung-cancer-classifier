{
  "nbformat": 4,
  "nbformat_minor": 0,
  "metadata": {
    "colab": {
      "provenance": []
    },
    "kernelspec": {
      "name": "python3",
      "display_name": "Python 3"
    },
    "language_info": {
      "name": "python"
    }
  },
  "cells": [
    {
      "cell_type": "markdown",
      "source": [
        "# **INCEPTION-V3**"
      ],
      "metadata": {
        "id": "Ylp4gTbEprN_"
      }
    },
    {
      "cell_type": "markdown",
      "source": [
        "\n",
        "\n",
        "0.   Adenocarcinoma  \n",
        "1.   Large cell carcinoma\n",
        "2.   Normal\n",
        "3.   Squamous cell carcinoma\n",
        "\n"
      ],
      "metadata": {
        "id": "j7SliM6SmQ68"
      }
    },
    {
      "cell_type": "markdown",
      "source": [
        "# **Loading model and weights**"
      ],
      "metadata": {
        "id": "h6ZRMN3yk0mo"
      }
    },
    {
      "cell_type": "code",
      "execution_count": 111,
      "metadata": {
        "colab": {
          "base_uri": "https://localhost:8080/"
        },
        "id": "dOStl7Jgj1hv",
        "outputId": "c2de92d4-f06f-4af2-9b3e-7cf00eb11d6c"
      },
      "outputs": [
        {
          "output_type": "stream",
          "name": "stdout",
          "text": [
            "Drive already mounted at gdrive; to attempt to forcibly remount, call drive.mount(\"gdrive\", force_remount=True).\n"
          ]
        }
      ],
      "source": [
        "from tensorflow.keras.models import model_from_json\n",
        "from tensorflow.keras.preprocessing import image\n",
        "from tensorflow.keras.models import load_model\n",
        "import tensorflow as tf\n",
        "import numpy as np\n",
        "from google.colab import drive\n",
        "import os\n",
        "drive.mount('gdrive')"
      ]
    },
    {
      "cell_type": "code",
      "source": [
        "models_path = \"/content/gdrive/MyDrive/My_ML_model - Chest Cancer/Model_s architecture/Model_s architecturemodel_architecture_Inception-V3.json\"\n",
        "models_weights = \"/content/gdrive/MyDrive/My_ML_model - Chest Cancer/Model_s weights/Model_s weightsmodel_weights_Inception-V3.h5\""
      ],
      "metadata": {
        "id": "Dt0vFHGTn-6u"
      },
      "execution_count": 112,
      "outputs": []
    },
    {
      "cell_type": "code",
      "source": [
        "with open(models_path, 'r') as json_file:\n",
        "    model_json = json_file.read()\n",
        "model = model_from_json(model_json)\n",
        "\n",
        "model.load_weights(models_weights)"
      ],
      "metadata": {
        "id": "E2Mwnr1ho9M4"
      },
      "execution_count": 113,
      "outputs": []
    },
    {
      "cell_type": "code",
      "source": [
        "model.summary()"
      ],
      "metadata": {
        "colab": {
          "base_uri": "https://localhost:8080/"
        },
        "id": "5zMwSNp5pQCe",
        "outputId": "68854b14-cbe2-4ea5-cfc6-0a174ec1e0ab"
      },
      "execution_count": 114,
      "outputs": [
        {
          "output_type": "stream",
          "name": "stdout",
          "text": [
            "Model: \"sequential\"\n",
            "_________________________________________________________________\n",
            " Layer (type)                Output Shape              Param #   \n",
            "=================================================================\n",
            " inception_v3 (Functional)   (None, 5, 5, 2048)        21802784  \n",
            "                                                                 \n",
            " flatten (Flatten)           (None, 51200)             0         \n",
            "                                                                 \n",
            " dense (Dense)               (None, 256)               13107456  \n",
            "                                                                 \n",
            " dropout (Dropout)           (None, 256)               0         \n",
            "                                                                 \n",
            " dense_1 (Dense)             (None, 4)                 1028      \n",
            "                                                                 \n",
            "=================================================================\n",
            "Total params: 34911268 (133.18 MB)\n",
            "Trainable params: 13108484 (50.00 MB)\n",
            "Non-trainable params: 21802784 (83.17 MB)\n",
            "_________________________________________________________________\n"
          ]
        }
      ]
    },
    {
      "cell_type": "markdown",
      "source": [
        "# **Normal: 2**"
      ],
      "metadata": {
        "id": "r0EUbA-kzUkz"
      }
    },
    {
      "cell_type": "code",
      "source": [
        "normal1_path = \"/content/gdrive/MyDrive/Final test images/Normal/normal1.jpg\"\n",
        "normal2_path = \"/content/gdrive/MyDrive/Final test images/Normal/normal2.jpg\"\n",
        "normal3_path = \"/content/gdrive/MyDrive/Final test images/Normal/normal3.jpg\"\n"
      ],
      "metadata": {
        "id": "zZ72aQ8Kp02T"
      },
      "execution_count": 115,
      "outputs": []
    },
    {
      "cell_type": "code",
      "source": [
        "normal1 = image.load_img(normal1_path,target_size =(224,224))\n",
        "normal2 = image.load_img(normal2_path, target_size = (224,224))\n",
        "normal3 = image.load_img(normal3_path, target_size = (224,224))"
      ],
      "metadata": {
        "id": "oANoQOpkxc8_"
      },
      "execution_count": 116,
      "outputs": []
    },
    {
      "cell_type": "code",
      "source": [
        "img1_array = image.img_to_array(normal1, dtype = 'float32')\n",
        "img1_array = tf.keras.applications.inception_v3.preprocess_input(img1_array)\n",
        "img1_array = np.expand_dims(img1_array,axis = 0)\n",
        "\n",
        "img2_array = image.img_to_array(normal2, dtype = 'float32')\n",
        "img2_array = tf.keras.applications.inception_v3.preprocess_input(img2_array)\n",
        "img2_array = np.expand_dims(img2_array,axis = 0)\n",
        "\n",
        "img3_array = image.img_to_array(normal3, dtype = 'float32')\n",
        "img3_array = tf.keras.applications.inception_v3.preprocess_input(img3_array)\n",
        "img3_array = np.expand_dims(img3_array,axis = 0)"
      ],
      "metadata": {
        "id": "i3I_DgVozC-V"
      },
      "execution_count": 117,
      "outputs": []
    },
    {
      "cell_type": "code",
      "source": [
        "prediction = model.predict(img1_array)\n",
        "predicted_class = np.argmax(prediction, axis =1)\n",
        "print(f\"Prediction: {predicted_class}\")"
      ],
      "metadata": {
        "colab": {
          "base_uri": "https://localhost:8080/"
        },
        "id": "uiCpF4z23DUu",
        "outputId": "cf5c6f9a-82ea-4472-b93f-ce36beda0469"
      },
      "execution_count": 118,
      "outputs": [
        {
          "output_type": "stream",
          "name": "stdout",
          "text": [
            "1/1 [==============================] - 4s 4s/step\n",
            "Prediction: [2]\n"
          ]
        }
      ]
    },
    {
      "cell_type": "code",
      "source": [
        "prediction = model.predict(img2_array)\n",
        "predicted_class = np.argmax(prediction, axis =1)\n",
        "print(f\"Prediction: {predicted_class}\")"
      ],
      "metadata": {
        "colab": {
          "base_uri": "https://localhost:8080/"
        },
        "id": "IVxRUftC4qH3",
        "outputId": "43e457fc-d603-4326-9f15-254224d2dfb0"
      },
      "execution_count": 119,
      "outputs": [
        {
          "output_type": "stream",
          "name": "stdout",
          "text": [
            "1/1 [==============================] - 0s 251ms/step\n",
            "Prediction: [2]\n"
          ]
        }
      ]
    },
    {
      "cell_type": "code",
      "source": [
        "prediction = model.predict(img3_array)\n",
        "predicted_class = np.argmax(prediction, axis =1)\n",
        "print(f\"Prediction: {predicted_class}\")"
      ],
      "metadata": {
        "colab": {
          "base_uri": "https://localhost:8080/"
        },
        "id": "YOYYoAqn5VbR",
        "outputId": "eccdb5ce-e4c6-4e5e-ddf4-340d02192707"
      },
      "execution_count": 120,
      "outputs": [
        {
          "output_type": "stream",
          "name": "stdout",
          "text": [
            "1/1 [==============================] - 0s 264ms/step\n",
            "Prediction: [2]\n"
          ]
        }
      ]
    },
    {
      "cell_type": "markdown",
      "source": [
        "# **Adenocacirnoma: 0**"
      ],
      "metadata": {
        "id": "9coCuopyY7RI"
      }
    },
    {
      "cell_type": "code",
      "source": [
        "Adeno1_path = \"/content/gdrive/MyDrive/Final test images/Adenocarcinoma/A1.jpg\"\n",
        "Adeno2_path = \"/content/gdrive/MyDrive/Final test images/Adenocarcinoma/A2.jpg\"\n",
        "Adeno3_path = \"/content/gdrive/MyDrive/Final test images/Adenocarcinoma/A3.jpg\""
      ],
      "metadata": {
        "id": "deQsYZvbZBTw"
      },
      "execution_count": 121,
      "outputs": []
    },
    {
      "cell_type": "code",
      "source": [
        "Adeno1 = image.load_img(Adeno1_path,target_size =(224,224))\n",
        "Adeno2 = image.load_img(Adeno2_path, target_size = (224,224))\n",
        "Adeno3 = image.load_img(Adeno3_path, target_size = (224,224))"
      ],
      "metadata": {
        "id": "q_1njkj4ZVKk"
      },
      "execution_count": 122,
      "outputs": []
    },
    {
      "cell_type": "code",
      "source": [
        "img1_array = image.img_to_array(Adeno1, dtype = 'float32')\n",
        "img1_array = tf.keras.applications.inception_v3.preprocess_input(img1_array)\n",
        "img1_array = np.expand_dims(img1_array,axis = 0)\n",
        "\n",
        "img2_array = image.img_to_array(Adeno2, dtype = 'float32')\n",
        "img2_array = tf.keras.applications.inception_v3.preprocess_input(img2_array)\n",
        "img2_array = np.expand_dims(img2_array,axis = 0)\n",
        "\n",
        "img3_array = image.img_to_array(Adeno3, dtype = 'float32')\n",
        "img3_array = tf.keras.applications.inception_v3.preprocess_input(img3_array)\n",
        "img3_array = np.expand_dims(img3_array,axis = 0)"
      ],
      "metadata": {
        "id": "C9BXsVZbZ1Dg"
      },
      "execution_count": 123,
      "outputs": []
    },
    {
      "cell_type": "code",
      "source": [
        "prediction = model.predict(img1_array)\n",
        "predicted_class = np.argmax(prediction, axis =1)\n",
        "print(f\"Prediction: {predicted_class}\")"
      ],
      "metadata": {
        "colab": {
          "base_uri": "https://localhost:8080/"
        },
        "id": "Jh8vEl80akID",
        "outputId": "df1cccc1-108a-4d72-aca8-09b28d8775e4"
      },
      "execution_count": 124,
      "outputs": [
        {
          "output_type": "stream",
          "name": "stdout",
          "text": [
            "1/1 [==============================] - 0s 341ms/step\n",
            "Prediction: [2]\n"
          ]
        }
      ]
    },
    {
      "cell_type": "code",
      "source": [
        "prediction = model.predict(img2_array)\n",
        "predicted_class = np.argmax(prediction, axis =1)\n",
        "print(f\"Prediction: {predicted_class}\")"
      ],
      "metadata": {
        "colab": {
          "base_uri": "https://localhost:8080/"
        },
        "id": "UjBz0Ik3au6X",
        "outputId": "76df9165-18b1-4d04-ff33-8cd7ffd8d65a"
      },
      "execution_count": 125,
      "outputs": [
        {
          "output_type": "stream",
          "name": "stdout",
          "text": [
            "1/1 [==============================] - 0s 315ms/step\n",
            "Prediction: [0]\n"
          ]
        }
      ]
    },
    {
      "cell_type": "code",
      "source": [
        "prediction = model.predict(img3_array)\n",
        "predicted_class = np.argmax(prediction, axis =1)\n",
        "print(f\"Prediction: {predicted_class}\")"
      ],
      "metadata": {
        "colab": {
          "base_uri": "https://localhost:8080/"
        },
        "id": "lsiYoS5BavaP",
        "outputId": "14ff2872-b68b-45e9-e31a-86a9e2c2a607"
      },
      "execution_count": 126,
      "outputs": [
        {
          "output_type": "stream",
          "name": "stdout",
          "text": [
            "1/1 [==============================] - 0s 227ms/step\n",
            "Prediction: [0]\n"
          ]
        }
      ]
    },
    {
      "cell_type": "markdown",
      "source": [
        "# **Large cell carcinoma: 1**"
      ],
      "metadata": {
        "id": "Vq9Qv9TKU2nj"
      }
    },
    {
      "cell_type": "code",
      "source": [
        "large1_path = \"/content/gdrive/MyDrive/Final test images/Large cell carcinoma/LCC1.jpg\"\n",
        "large2_path = \"/content/gdrive/MyDrive/Final test images/Large cell carcinoma/LCC2.jpg\"\n",
        "large3_path = \"/content/gdrive/MyDrive/Final test images/Large cell carcinoma/LCC3.png\""
      ],
      "metadata": {
        "id": "WfcqHK0N5sCX"
      },
      "execution_count": 127,
      "outputs": []
    },
    {
      "cell_type": "code",
      "source": [
        "LCC1 = image.load_img(large1_path,target_size =(224,224))\n",
        "LCC2 = image.load_img(large2_path, target_size = (224,224))\n",
        "LCC3 = image.load_img(large3_path, target_size = (224,224))"
      ],
      "metadata": {
        "id": "fKYX1bRtWLOl"
      },
      "execution_count": 128,
      "outputs": []
    },
    {
      "cell_type": "code",
      "source": [
        "img1_array = image.img_to_array(LCC1, dtype = 'float32')\n",
        "img1_array = tf.keras.applications.inception_v3.preprocess_input(img1_array)\n",
        "img1_array = np.expand_dims(img1_array,axis = 0)\n",
        "\n",
        "img2_array = image.img_to_array(LCC2, dtype = 'float32')\n",
        "img2_array = tf.keras.applications.inception_v3.preprocess_input(img2_array)\n",
        "img2_array = np.expand_dims(img2_array,axis = 0)\n",
        "\n",
        "img3_array = image.img_to_array(LCC3, dtype = 'float32')\n",
        "img3_array = tf.keras.applications.inception_v3.preprocess_input(img3_array)\n",
        "img3_array = np.expand_dims(img3_array,axis = 0)"
      ],
      "metadata": {
        "id": "e6jx9GyFWgO1"
      },
      "execution_count": 129,
      "outputs": []
    },
    {
      "cell_type": "code",
      "source": [
        "prediction = model.predict(img1_array)\n",
        "predicted_class = np.argmax(prediction, axis =1)\n",
        "print(f\"Prediction: {predicted_class}\")"
      ],
      "metadata": {
        "colab": {
          "base_uri": "https://localhost:8080/"
        },
        "outputId": "89236b4a-9190-4626-e39c-c97a71940baf",
        "id": "W5CcEgfeXNOh"
      },
      "execution_count": 130,
      "outputs": [
        {
          "output_type": "stream",
          "name": "stdout",
          "text": [
            "1/1 [==============================] - 0s 241ms/step\n",
            "Prediction: [0]\n"
          ]
        }
      ]
    },
    {
      "cell_type": "code",
      "source": [
        "prediction = model.predict(img2_array)\n",
        "predicted_class = np.argmax(prediction, axis =1)\n",
        "print(f\"Prediction: {predicted_class}\")"
      ],
      "metadata": {
        "colab": {
          "base_uri": "https://localhost:8080/"
        },
        "outputId": "afe18ea6-50ac-4fcb-9d6c-129157a4ed3c",
        "id": "XWr8nsTtXTUj"
      },
      "execution_count": 131,
      "outputs": [
        {
          "output_type": "stream",
          "name": "stdout",
          "text": [
            "1/1 [==============================] - 0s 235ms/step\n",
            "Prediction: [3]\n"
          ]
        }
      ]
    },
    {
      "cell_type": "code",
      "source": [
        "prediction = model.predict(img3_array)\n",
        "predicted_class = np.argmax(prediction, axis =1)\n",
        "print(f\"Prediction: {predicted_class}\")"
      ],
      "metadata": {
        "colab": {
          "base_uri": "https://localhost:8080/"
        },
        "outputId": "96b81b2f-8d17-436c-8fd9-0f86622e0911",
        "id": "RRK8ZbAbXVn2"
      },
      "execution_count": 132,
      "outputs": [
        {
          "output_type": "stream",
          "name": "stdout",
          "text": [
            "1/1 [==============================] - 0s 259ms/step\n",
            "Prediction: [0]\n"
          ]
        }
      ]
    },
    {
      "cell_type": "markdown",
      "source": [
        "# **Squamous Cell Carcinoma: 3**"
      ],
      "metadata": {
        "id": "CR6zwO4Ra8Kx"
      }
    },
    {
      "cell_type": "code",
      "source": [
        "SCC1_path = \"/content/gdrive/MyDrive/Final test images/Squamous cell carcinoma/SCC1.jpeg\"\n",
        "SCC2_path = \"/content/gdrive/MyDrive/Final test images/Squamous cell carcinoma/SCC2.jpeg\"\n",
        "SCC3_path = \"/content/gdrive/MyDrive/Final test images/Squamous cell carcinoma/SCC3.jpeg\""
      ],
      "metadata": {
        "id": "0dqZ8LfrW6mC"
      },
      "execution_count": 133,
      "outputs": []
    },
    {
      "cell_type": "code",
      "source": [
        "SCC1 = image.load_img(SCC1_path,target_size =(224,224))\n",
        "SCC2 = image.load_img(SCC2_path, target_size = (224,224))\n",
        "SCC3 = image.load_img(SCC3_path, target_size = (224,224))"
      ],
      "metadata": {
        "id": "0wdohVIUb-da"
      },
      "execution_count": 134,
      "outputs": []
    },
    {
      "cell_type": "code",
      "source": [
        "img1_array = image.img_to_array(SCC1, dtype = 'float32')\n",
        "img1_array = tf.keras.applications.inception_v3.preprocess_input(img1_array)\n",
        "img1_array = np.expand_dims(img1_array,axis = 0)\n",
        "\n",
        "img2_array = image.img_to_array(SCC2, dtype = 'float32')\n",
        "img2_array = tf.keras.applications.inception_v3.preprocess_input(img2_array)\n",
        "img2_array = np.expand_dims(img2_array,axis = 0)\n",
        "\n",
        "img3_array = image.img_to_array(SCC3, dtype = 'float32')\n",
        "img3_array = tf.keras.applications.inception_v3.preprocess_input(img3_array)\n",
        "img3_array = np.expand_dims(img3_array,axis = 0)"
      ],
      "metadata": {
        "id": "NI-XnWpJcTi3"
      },
      "execution_count": 135,
      "outputs": []
    },
    {
      "cell_type": "code",
      "source": [
        "prediction = model.predict(img1_array)\n",
        "predicted_class = np.argmax(prediction, axis =1)\n",
        "print(f\"Prediction: {predicted_class}\")"
      ],
      "metadata": {
        "colab": {
          "base_uri": "https://localhost:8080/"
        },
        "id": "77TSzWXbcW5o",
        "outputId": "ca85f005-46e2-4ac3-d20e-48cafa1e4ccd"
      },
      "execution_count": 136,
      "outputs": [
        {
          "output_type": "stream",
          "name": "stdout",
          "text": [
            "1/1 [==============================] - 0s 286ms/step\n",
            "Prediction: [3]\n"
          ]
        }
      ]
    },
    {
      "cell_type": "code",
      "source": [
        "prediction = model.predict(img2_array)\n",
        "predicted_class = np.argmax(prediction, axis =1)\n",
        "print(f\"Prediction: {predicted_class}\")"
      ],
      "metadata": {
        "colab": {
          "base_uri": "https://localhost:8080/"
        },
        "id": "pOeoie-7cfBA",
        "outputId": "0a2cb793-e53c-48b5-f4e1-0f02ea76355e"
      },
      "execution_count": 137,
      "outputs": [
        {
          "output_type": "stream",
          "name": "stdout",
          "text": [
            "1/1 [==============================] - 0s 225ms/step\n",
            "Prediction: [3]\n"
          ]
        }
      ]
    },
    {
      "cell_type": "code",
      "source": [
        "prediction = model.predict(img3_array)\n",
        "predicted_class = np.argmax(prediction, axis =1)\n",
        "print(f\"Prediction: {predicted_class}\")"
      ],
      "metadata": {
        "colab": {
          "base_uri": "https://localhost:8080/"
        },
        "id": "CvBh1vubcfSf",
        "outputId": "bbf00d0d-4912-414a-8dc7-a6cc9a92bcdc"
      },
      "execution_count": 138,
      "outputs": [
        {
          "output_type": "stream",
          "name": "stdout",
          "text": [
            "1/1 [==============================] - 0s 143ms/step\n",
            "Prediction: [2]\n"
          ]
        }
      ]
    },
    {
      "cell_type": "code",
      "source": [],
      "metadata": {
        "id": "2MkXxA1Xcvzk"
      },
      "execution_count": 138,
      "outputs": []
    }
  ]
}