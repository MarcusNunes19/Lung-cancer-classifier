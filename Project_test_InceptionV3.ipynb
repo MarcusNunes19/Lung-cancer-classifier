{
  "cells": [
    {
      "cell_type": "markdown",
      "metadata": {
        "id": "Ylp4gTbEprN_"
      },
      "source": [
        "# **INCEPTION-V3**"
      ]
    },
    {
      "cell_type": "markdown",
      "metadata": {
        "id": "j7SliM6SmQ68"
      },
      "source": [
        "\n",
        "\n",
        "0.   Adenocarcinoma  \n",
        "1.   Large cell carcinoma\n",
        "2.   Normal\n",
        "3.   Squamous cell carcinoma\n",
        "\n"
      ]
    },
    {
      "cell_type": "markdown",
      "metadata": {
        "id": "h6ZRMN3yk0mo"
      },
      "source": [
        "# **Loading model and weights**"
      ]
    },
    {
      "cell_type": "code",
      "execution_count": 2,
      "metadata": {
        "colab": {
          "base_uri": "https://localhost:8080/"
        },
        "id": "dOStl7Jgj1hv",
        "outputId": "c8458d2c-d64b-42f4-c645-9d2bd5829722"
      },
      "outputs": [
        {
          "output_type": "stream",
          "name": "stdout",
          "text": [
            "Mounted at gdrive\n"
          ]
        }
      ],
      "source": [
        "from tensorflow.keras.models import model_from_json\n",
        "from tensorflow.keras.preprocessing import image\n",
        "from tensorflow.keras.models import load_model\n",
        "import tensorflow as tf\n",
        "import numpy as np\n",
        "from google.colab import drive\n",
        "import os\n",
        "drive.mount('gdrive')"
      ]
    },
    {
      "cell_type": "code",
      "execution_count": 3,
      "metadata": {
        "id": "Dt0vFHGTn-6u"
      },
      "outputs": [],
      "source": [
        "models_path = \"/content/gdrive/MyDrive/My_ML_model - Chest Cancer/Model_s architecture/Model_s architecturemodel_architecture_Inception-V3.json\"\n",
        "models_weights = \"/content/gdrive/MyDrive/My_ML_model - Chest Cancer/Model_s weights/Model_s weightsmodel_weights_Inception-V3.h5\""
      ]
    },
    {
      "cell_type": "code",
      "execution_count": 4,
      "metadata": {
        "id": "E2Mwnr1ho9M4"
      },
      "outputs": [],
      "source": [
        "with open(models_path, 'r') as json_file:\n",
        "    model_json = json_file.read()\n",
        "model = model_from_json(model_json)\n",
        "\n",
        "model.load_weights(models_weights)"
      ]
    },
    {
      "cell_type": "code",
      "execution_count": 5,
      "metadata": {
        "colab": {
          "base_uri": "https://localhost:8080/"
        },
        "id": "5zMwSNp5pQCe",
        "outputId": "2e3b07c1-d0ff-4827-a9cb-2f78c9e3a213"
      },
      "outputs": [
        {
          "output_type": "stream",
          "name": "stdout",
          "text": [
            "Model: \"sequential\"\n",
            "_________________________________________________________________\n",
            " Layer (type)                Output Shape              Param #   \n",
            "=================================================================\n",
            " inception_v3 (Functional)   (None, 5, 5, 2048)        21802784  \n",
            "                                                                 \n",
            " flatten (Flatten)           (None, 51200)             0         \n",
            "                                                                 \n",
            " dense (Dense)               (None, 256)               13107456  \n",
            "                                                                 \n",
            " dropout (Dropout)           (None, 256)               0         \n",
            "                                                                 \n",
            " dense_1 (Dense)             (None, 4)                 1028      \n",
            "                                                                 \n",
            "=================================================================\n",
            "Total params: 34911268 (133.18 MB)\n",
            "Trainable params: 13108484 (50.00 MB)\n",
            "Non-trainable params: 21802784 (83.17 MB)\n",
            "_________________________________________________________________\n"
          ]
        }
      ],
      "source": [
        "model.summary()"
      ]
    },
    {
      "cell_type": "markdown",
      "metadata": {
        "id": "r0EUbA-kzUkz"
      },
      "source": [
        "# **Normal: 2**"
      ]
    },
    {
      "cell_type": "code",
      "execution_count": 6,
      "metadata": {
        "id": "zZ72aQ8Kp02T"
      },
      "outputs": [],
      "source": [
        "normal1_path = \"/content/gdrive/MyDrive/Final test images/Normal/normal1.jpg\"\n",
        "normal2_path = \"/content/gdrive/MyDrive/Final test images/Normal/normal2.jpg\"\n",
        "normal3_path = \"/content/gdrive/MyDrive/Final test images/Normal/normal3.jpg\"\n"
      ]
    },
    {
      "cell_type": "code",
      "execution_count": 7,
      "metadata": {
        "id": "oANoQOpkxc8_"
      },
      "outputs": [],
      "source": [
        "normal1 = image.load_img(normal1_path,target_size =(224,224))\n",
        "normal2 = image.load_img(normal2_path, target_size = (224,224))\n",
        "normal3 = image.load_img(normal3_path, target_size = (224,224))"
      ]
    },
    {
      "cell_type": "code",
      "execution_count": 8,
      "metadata": {
        "id": "i3I_DgVozC-V"
      },
      "outputs": [],
      "source": [
        "img1_array = image.img_to_array(normal1, dtype = 'float32')\n",
        "img1_array = tf.keras.applications.inception_v3.preprocess_input(img1_array)\n",
        "img1_array = np.expand_dims(img1_array,axis = 0)\n",
        "\n",
        "img2_array = image.img_to_array(normal2, dtype = 'float32')\n",
        "img2_array = tf.keras.applications.inception_v3.preprocess_input(img2_array)\n",
        "img2_array = np.expand_dims(img2_array,axis = 0)\n",
        "\n",
        "img3_array = image.img_to_array(normal3, dtype = 'float32')\n",
        "img3_array = tf.keras.applications.inception_v3.preprocess_input(img3_array)\n",
        "img3_array = np.expand_dims(img3_array,axis = 0)"
      ]
    },
    {
      "cell_type": "code",
      "execution_count": 9,
      "metadata": {
        "colab": {
          "base_uri": "https://localhost:8080/"
        },
        "id": "uiCpF4z23DUu",
        "outputId": "23632df4-dade-47b2-fcf1-9fb389b6550d"
      },
      "outputs": [
        {
          "output_type": "stream",
          "name": "stdout",
          "text": [
            "1/1 [==============================] - 2s 2s/step\n",
            "Prediction: [2]\n"
          ]
        }
      ],
      "source": [
        "prediction = model.predict(img1_array)\n",
        "predicted_class = np.argmax(prediction, axis =1)\n",
        "print(f\"Prediction: {predicted_class}\")"
      ]
    },
    {
      "cell_type": "code",
      "execution_count": 10,
      "metadata": {
        "colab": {
          "base_uri": "https://localhost:8080/"
        },
        "id": "IVxRUftC4qH3",
        "outputId": "273d384a-49f1-42fd-8ce5-78092f1dc6db"
      },
      "outputs": [
        {
          "output_type": "stream",
          "name": "stdout",
          "text": [
            "1/1 [==============================] - 0s 158ms/step\n",
            "Prediction: [2]\n"
          ]
        }
      ],
      "source": [
        "prediction = model.predict(img2_array)\n",
        "predicted_class = np.argmax(prediction, axis =1)\n",
        "print(f\"Prediction: {predicted_class}\")"
      ]
    },
    {
      "cell_type": "code",
      "execution_count": 11,
      "metadata": {
        "colab": {
          "base_uri": "https://localhost:8080/"
        },
        "id": "YOYYoAqn5VbR",
        "outputId": "685c2d86-1a7f-4f2c-e83d-244dd1505856"
      },
      "outputs": [
        {
          "output_type": "stream",
          "name": "stdout",
          "text": [
            "1/1 [==============================] - 0s 137ms/step\n",
            "Prediction: [2]\n"
          ]
        }
      ],
      "source": [
        "prediction = model.predict(img3_array)\n",
        "predicted_class = np.argmax(prediction, axis =1)\n",
        "print(f\"Prediction: {predicted_class}\")"
      ]
    },
    {
      "cell_type": "markdown",
      "metadata": {
        "id": "9coCuopyY7RI"
      },
      "source": [
        "# **Adenocacirnoma: 0**"
      ]
    },
    {
      "cell_type": "code",
      "execution_count": 12,
      "metadata": {
        "id": "deQsYZvbZBTw"
      },
      "outputs": [],
      "source": [
        "Adeno1_path = \"/content/gdrive/MyDrive/Final test images/Adenocarcinoma/A1.jpg\"\n",
        "Adeno2_path = \"/content/gdrive/MyDrive/Final test images/Adenocarcinoma/A2.jpg\"\n",
        "Adeno3_path = \"/content/gdrive/MyDrive/Final test images/Adenocarcinoma/A3.jpg\""
      ]
    },
    {
      "cell_type": "code",
      "execution_count": 13,
      "metadata": {
        "id": "q_1njkj4ZVKk"
      },
      "outputs": [],
      "source": [
        "Adeno1 = image.load_img(Adeno1_path,target_size =(224,224))\n",
        "Adeno2 = image.load_img(Adeno2_path, target_size = (224,224))\n",
        "Adeno3 = image.load_img(Adeno3_path, target_size = (224,224))"
      ]
    },
    {
      "cell_type": "code",
      "execution_count": 14,
      "metadata": {
        "id": "C9BXsVZbZ1Dg"
      },
      "outputs": [],
      "source": [
        "img1_array = image.img_to_array(Adeno1, dtype = 'float32')\n",
        "img1_array = tf.keras.applications.inception_v3.preprocess_input(img1_array)\n",
        "img1_array = np.expand_dims(img1_array,axis = 0)\n",
        "\n",
        "img2_array = image.img_to_array(Adeno2, dtype = 'float32')\n",
        "img2_array = tf.keras.applications.inception_v3.preprocess_input(img2_array)\n",
        "img2_array = np.expand_dims(img2_array,axis = 0)\n",
        "\n",
        "img3_array = image.img_to_array(Adeno3, dtype = 'float32')\n",
        "img3_array = tf.keras.applications.inception_v3.preprocess_input(img3_array)\n",
        "img3_array = np.expand_dims(img3_array,axis = 0)"
      ]
    },
    {
      "cell_type": "code",
      "execution_count": 15,
      "metadata": {
        "colab": {
          "base_uri": "https://localhost:8080/"
        },
        "id": "Jh8vEl80akID",
        "outputId": "370a8693-3024-418a-c0bf-3de7bfb24a4b"
      },
      "outputs": [
        {
          "output_type": "stream",
          "name": "stdout",
          "text": [
            "1/1 [==============================] - 0s 139ms/step\n",
            "Prediction: [2]\n"
          ]
        }
      ],
      "source": [
        "prediction = model.predict(img1_array)\n",
        "predicted_class = np.argmax(prediction, axis =1)\n",
        "print(f\"Prediction: {predicted_class}\")"
      ]
    },
    {
      "cell_type": "code",
      "execution_count": 16,
      "metadata": {
        "colab": {
          "base_uri": "https://localhost:8080/"
        },
        "id": "UjBz0Ik3au6X",
        "outputId": "10a63e6d-2056-4813-d331-00672b8bd729"
      },
      "outputs": [
        {
          "output_type": "stream",
          "name": "stdout",
          "text": [
            "1/1 [==============================] - 0s 138ms/step\n",
            "Prediction: [0]\n"
          ]
        }
      ],
      "source": [
        "prediction = model.predict(img2_array)\n",
        "predicted_class = np.argmax(prediction, axis =1)\n",
        "print(f\"Prediction: {predicted_class}\")"
      ]
    },
    {
      "cell_type": "code",
      "execution_count": 17,
      "metadata": {
        "colab": {
          "base_uri": "https://localhost:8080/"
        },
        "id": "lsiYoS5BavaP",
        "outputId": "0401e907-5e4d-490f-ca80-b9d8f2b93430"
      },
      "outputs": [
        {
          "output_type": "stream",
          "name": "stdout",
          "text": [
            "1/1 [==============================] - 0s 153ms/step\n",
            "Prediction: [0]\n"
          ]
        }
      ],
      "source": [
        "prediction = model.predict(img3_array)\n",
        "predicted_class = np.argmax(prediction, axis =1)\n",
        "print(f\"Prediction: {predicted_class}\")"
      ]
    },
    {
      "cell_type": "markdown",
      "metadata": {
        "id": "Vq9Qv9TKU2nj"
      },
      "source": [
        "# **Large cell carcinoma: 1**"
      ]
    },
    {
      "cell_type": "code",
      "execution_count": 20,
      "metadata": {
        "id": "WfcqHK0N5sCX"
      },
      "outputs": [],
      "source": [
        "large1_path = \"/content/gdrive/MyDrive/Final test images/Large cell carcinoma/LCC1.jpg\"\n",
        "large2_path = \"/content/gdrive/MyDrive/Final test images/Large cell carcinoma/LCC2.jpg\"\n",
        "large3_path = \"/content/gdrive/MyDrive/Final test images/Large cell carcinoma/LCC3.jpg\""
      ]
    },
    {
      "cell_type": "code",
      "execution_count": 21,
      "metadata": {
        "id": "fKYX1bRtWLOl"
      },
      "outputs": [],
      "source": [
        "LCC1 = image.load_img(large1_path,target_size =(224,224))\n",
        "LCC2 = image.load_img(large2_path, target_size = (224,224))\n",
        "LCC3 = image.load_img(large3_path, target_size = (224,224))"
      ]
    },
    {
      "cell_type": "code",
      "execution_count": 22,
      "metadata": {
        "id": "e6jx9GyFWgO1"
      },
      "outputs": [],
      "source": [
        "img1_array = image.img_to_array(LCC1, dtype = 'float32')\n",
        "img1_array = tf.keras.applications.inception_v3.preprocess_input(img1_array)\n",
        "img1_array = np.expand_dims(img1_array,axis = 0)\n",
        "\n",
        "img2_array = image.img_to_array(LCC2, dtype = 'float32')\n",
        "img2_array = tf.keras.applications.inception_v3.preprocess_input(img2_array)\n",
        "img2_array = np.expand_dims(img2_array,axis = 0)\n",
        "\n",
        "img3_array = image.img_to_array(LCC3, dtype = 'float32')\n",
        "img3_array = tf.keras.applications.inception_v3.preprocess_input(img3_array)\n",
        "img3_array = np.expand_dims(img3_array,axis = 0)"
      ]
    },
    {
      "cell_type": "code",
      "execution_count": 23,
      "metadata": {
        "colab": {
          "base_uri": "https://localhost:8080/"
        },
        "id": "W5CcEgfeXNOh",
        "outputId": "ed5ab766-c9bf-488f-fdaa-1f9faa5d7947"
      },
      "outputs": [
        {
          "output_type": "stream",
          "name": "stdout",
          "text": [
            "1/1 [==============================] - 0s 152ms/step\n",
            "Prediction: [1]\n"
          ]
        }
      ],
      "source": [
        "prediction = model.predict(img1_array)\n",
        "predicted_class = np.argmax(prediction, axis =1)\n",
        "print(f\"Prediction: {predicted_class}\")"
      ]
    },
    {
      "cell_type": "code",
      "execution_count": 24,
      "metadata": {
        "colab": {
          "base_uri": "https://localhost:8080/"
        },
        "id": "XWr8nsTtXTUj",
        "outputId": "986d5043-2389-461b-ae97-0ebbd76e48a9"
      },
      "outputs": [
        {
          "output_type": "stream",
          "name": "stdout",
          "text": [
            "1/1 [==============================] - 0s 148ms/step\n",
            "Prediction: [0]\n"
          ]
        }
      ],
      "source": [
        "prediction = model.predict(img2_array)\n",
        "predicted_class = np.argmax(prediction, axis =1)\n",
        "print(f\"Prediction: {predicted_class}\")"
      ]
    },
    {
      "cell_type": "code",
      "execution_count": 25,
      "metadata": {
        "colab": {
          "base_uri": "https://localhost:8080/"
        },
        "id": "RRK8ZbAbXVn2",
        "outputId": "e230f372-25df-46a3-e27d-fe658f11e2c5"
      },
      "outputs": [
        {
          "output_type": "stream",
          "name": "stdout",
          "text": [
            "1/1 [==============================] - 0s 139ms/step\n",
            "Prediction: [3]\n"
          ]
        }
      ],
      "source": [
        "prediction = model.predict(img3_array)\n",
        "predicted_class = np.argmax(prediction, axis =1)\n",
        "print(f\"Prediction: {predicted_class}\")"
      ]
    },
    {
      "cell_type": "markdown",
      "metadata": {
        "id": "CR6zwO4Ra8Kx"
      },
      "source": [
        "# **Squamous Cell Carcinoma: 3**"
      ]
    },
    {
      "cell_type": "code",
      "execution_count": 26,
      "metadata": {
        "id": "0dqZ8LfrW6mC"
      },
      "outputs": [],
      "source": [
        "SCC1_path = \"/content/gdrive/MyDrive/Final test images/Squamous cell carcinoma/SCC1.jpeg\"\n",
        "SCC2_path = \"/content/gdrive/MyDrive/Final test images/Squamous cell carcinoma/SCC2.jpeg\"\n",
        "SCC3_path = \"/content/gdrive/MyDrive/Final test images/Squamous cell carcinoma/SCC3.jpeg\""
      ]
    },
    {
      "cell_type": "code",
      "execution_count": 27,
      "metadata": {
        "id": "0wdohVIUb-da"
      },
      "outputs": [],
      "source": [
        "SCC1 = image.load_img(SCC1_path,target_size =(224,224))\n",
        "SCC2 = image.load_img(SCC2_path, target_size = (224,224))\n",
        "SCC3 = image.load_img(SCC3_path, target_size = (224,224))"
      ]
    },
    {
      "cell_type": "code",
      "execution_count": 28,
      "metadata": {
        "id": "NI-XnWpJcTi3"
      },
      "outputs": [],
      "source": [
        "img1_array = image.img_to_array(SCC1, dtype = 'float32')\n",
        "img1_array = tf.keras.applications.inception_v3.preprocess_input(img1_array)\n",
        "img1_array = np.expand_dims(img1_array,axis = 0)\n",
        "\n",
        "img2_array = image.img_to_array(SCC2, dtype = 'float32')\n",
        "img2_array = tf.keras.applications.inception_v3.preprocess_input(img2_array)\n",
        "img2_array = np.expand_dims(img2_array,axis = 0)\n",
        "\n",
        "img3_array = image.img_to_array(SCC3, dtype = 'float32')\n",
        "img3_array = tf.keras.applications.inception_v3.preprocess_input(img3_array)\n",
        "img3_array = np.expand_dims(img3_array,axis = 0)"
      ]
    },
    {
      "cell_type": "code",
      "execution_count": 29,
      "metadata": {
        "colab": {
          "base_uri": "https://localhost:8080/"
        },
        "id": "77TSzWXbcW5o",
        "outputId": "c979ef92-6386-41ad-8363-12449c6729bf"
      },
      "outputs": [
        {
          "output_type": "stream",
          "name": "stdout",
          "text": [
            "1/1 [==============================] - 0s 137ms/step\n",
            "Prediction: [3]\n"
          ]
        }
      ],
      "source": [
        "prediction = model.predict(img1_array)\n",
        "predicted_class = np.argmax(prediction, axis =1)\n",
        "print(f\"Prediction: {predicted_class}\")"
      ]
    },
    {
      "cell_type": "code",
      "execution_count": 30,
      "metadata": {
        "colab": {
          "base_uri": "https://localhost:8080/"
        },
        "id": "pOeoie-7cfBA",
        "outputId": "44841b2c-7345-4f54-8c6a-03245c207451"
      },
      "outputs": [
        {
          "output_type": "stream",
          "name": "stdout",
          "text": [
            "1/1 [==============================] - 0s 151ms/step\n",
            "Prediction: [3]\n"
          ]
        }
      ],
      "source": [
        "prediction = model.predict(img2_array)\n",
        "predicted_class = np.argmax(prediction, axis =1)\n",
        "print(f\"Prediction: {predicted_class}\")"
      ]
    },
    {
      "cell_type": "code",
      "execution_count": 31,
      "metadata": {
        "colab": {
          "base_uri": "https://localhost:8080/"
        },
        "id": "CvBh1vubcfSf",
        "outputId": "916418e9-fa48-4d94-b780-ed17c392d1fd"
      },
      "outputs": [
        {
          "output_type": "stream",
          "name": "stdout",
          "text": [
            "1/1 [==============================] - 0s 148ms/step\n",
            "Prediction: [2]\n"
          ]
        }
      ],
      "source": [
        "prediction = model.predict(img3_array)\n",
        "predicted_class = np.argmax(prediction, axis =1)\n",
        "print(f\"Prediction: {predicted_class}\")"
      ]
    },
    {
      "cell_type": "code",
      "execution_count": 31,
      "metadata": {
        "id": "2MkXxA1Xcvzk"
      },
      "outputs": [],
      "source": []
    }
  ],
  "metadata": {
    "colab": {
      "provenance": []
    },
    "kernelspec": {
      "display_name": "Python 3 (ipykernel)",
      "language": "python",
      "name": "python3"
    },
    "language_info": {
      "codemirror_mode": {
        "name": "ipython",
        "version": 3
      },
      "file_extension": ".py",
      "mimetype": "text/x-python",
      "name": "python",
      "nbconvert_exporter": "python",
      "pygments_lexer": "ipython3",
      "version": "3.12.4"
    }
  },
  "nbformat": 4,
  "nbformat_minor": 0
}