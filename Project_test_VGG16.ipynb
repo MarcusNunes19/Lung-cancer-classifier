{
  "nbformat": 4,
  "nbformat_minor": 0,
  "metadata": {
    "colab": {
      "provenance": []
    },
    "kernelspec": {
      "name": "python3",
      "display_name": "Python 3"
    },
    "language_info": {
      "name": "python"
    }
  },
  "cells": [
    {
      "cell_type": "markdown",
      "source": [
        "# **VGG16**"
      ],
      "metadata": {
        "id": "Ylp4gTbEprN_"
      }
    },
    {
      "cell_type": "markdown",
      "source": [
        "\n",
        "\n",
        "0.   Adenocarcinoma  \n",
        "1.   Large cell carcinoma\n",
        "2.   Normal\n",
        "3.   Squamous cell carcinoma\n",
        "\n"
      ],
      "metadata": {
        "id": "j7SliM6SmQ68"
      }
    },
    {
      "cell_type": "markdown",
      "source": [
        "# **Loading model and weights**"
      ],
      "metadata": {
        "id": "h6ZRMN3yk0mo"
      }
    },
    {
      "cell_type": "code",
      "execution_count": 1,
      "metadata": {
        "colab": {
          "base_uri": "https://localhost:8080/"
        },
        "id": "dOStl7Jgj1hv",
        "outputId": "6f809d45-4c9d-4f48-c778-d34c151039a4"
      },
      "outputs": [
        {
          "output_type": "stream",
          "name": "stdout",
          "text": [
            "Mounted at gdrive\n"
          ]
        }
      ],
      "source": [
        "from tensorflow.keras.applications.resnet import preprocess_input\n",
        "from tensorflow.keras.models import model_from_json\n",
        "from tensorflow.keras.preprocessing import image\n",
        "from tensorflow.keras.models import load_model\n",
        "import tensorflow as tf\n",
        "import numpy as np\n",
        "from google.colab import drive\n",
        "import os\n",
        "drive.mount('gdrive')"
      ]
    },
    {
      "cell_type": "code",
      "source": [
        "models_path = \"/content/gdrive/MyDrive/My_ML_model - Chest Cancer/Model_s architecture/Model_s architecturemodel_architecture_VGG16.json\"\n",
        "models_weights = \"/content/gdrive/MyDrive/My_ML_model - Chest Cancer/Model_s weights/Model_s weightsmodel_weights_VGG16.h5\""
      ],
      "metadata": {
        "id": "Dt0vFHGTn-6u"
      },
      "execution_count": 2,
      "outputs": []
    },
    {
      "cell_type": "code",
      "source": [
        "with open(models_path, 'r') as json_file:\n",
        "    model_json = json_file.read()\n",
        "model = model_from_json(model_json)\n",
        "\n",
        "model.load_weights(models_weights)"
      ],
      "metadata": {
        "id": "E2Mwnr1ho9M4"
      },
      "execution_count": 3,
      "outputs": []
    },
    {
      "cell_type": "code",
      "source": [
        "model.summary()"
      ],
      "metadata": {
        "colab": {
          "base_uri": "https://localhost:8080/"
        },
        "id": "5zMwSNp5pQCe",
        "outputId": "9c22241c-3510-4440-ebe9-35ea3fbbbe47"
      },
      "execution_count": 4,
      "outputs": [
        {
          "output_type": "stream",
          "name": "stdout",
          "text": [
            "Model: \"sequential\"\n",
            "_________________________________________________________________\n",
            " Layer (type)                Output Shape              Param #   \n",
            "=================================================================\n",
            " vgg16 (Functional)          (None, 7, 7, 512)         14714688  \n",
            "                                                                 \n",
            " batch_normalization (Batch  (None, 7, 7, 512)         2048      \n",
            " Normalization)                                                  \n",
            "                                                                 \n",
            " max_pooling2d (MaxPooling2  (None, 3, 3, 512)         0         \n",
            " D)                                                              \n",
            "                                                                 \n",
            " flatten (Flatten)           (None, 4608)              0         \n",
            "                                                                 \n",
            " dense (Dense)               (None, 1024)              4719616   \n",
            "                                                                 \n",
            " dropout (Dropout)           (None, 1024)              0         \n",
            "                                                                 \n",
            " dense_1 (Dense)             (None, 512)               524800    \n",
            "                                                                 \n",
            " dropout_1 (Dropout)         (None, 512)               0         \n",
            "                                                                 \n",
            " dense_2 (Dense)             (None, 256)               131328    \n",
            "                                                                 \n",
            " dense_3 (Dense)             (None, 128)               32896     \n",
            "                                                                 \n",
            " dense_4 (Dense)             (None, 4)                 516       \n",
            "                                                                 \n",
            "=================================================================\n",
            "Total params: 20125892 (76.77 MB)\n",
            "Trainable params: 5410180 (20.64 MB)\n",
            "Non-trainable params: 14715712 (56.14 MB)\n",
            "_________________________________________________________________\n"
          ]
        }
      ]
    },
    {
      "cell_type": "markdown",
      "source": [
        "# **Normal: 2**"
      ],
      "metadata": {
        "id": "r0EUbA-kzUkz"
      }
    },
    {
      "cell_type": "code",
      "source": [
        "normal1_path = \"/content/gdrive/MyDrive/Final test images/Normal/normal1.jpg\"\n",
        "normal2_path = \"/content/gdrive/MyDrive/Final test images/Normal/normal2.jpg\"\n",
        "normal3_path = \"/content/gdrive/MyDrive/Final test images/Normal/normal3.jpg\"\n"
      ],
      "metadata": {
        "id": "zZ72aQ8Kp02T"
      },
      "execution_count": 5,
      "outputs": []
    },
    {
      "cell_type": "code",
      "source": [
        "normal1 = image.load_img(normal1_path,target_size =(244,244,3))\n",
        "normal2 = image.load_img(normal2_path, target_size = (244,244,3))\n",
        "normal3 = image.load_img(normal3_path, target_size = (244,244,3))"
      ],
      "metadata": {
        "id": "oANoQOpkxc8_"
      },
      "execution_count": 6,
      "outputs": []
    },
    {
      "cell_type": "code",
      "source": [
        "img1_array = image.img_to_array(normal1, dtype = 'float32')\n",
        "img1_array = preprocess_input(img1_array)\n",
        "img1_array = np.expand_dims(img1_array,axis = 0)\n",
        "\n",
        "img2_array = image.img_to_array(normal2, dtype = 'float32')\n",
        "img2_array = preprocess_input(img2_array)\n",
        "img2_array = np.expand_dims(img2_array,axis = 0)\n",
        "\n",
        "img3_array = image.img_to_array(normal3, dtype = 'float32')\n",
        "img3_array = preprocess_input(img3_array)\n",
        "img3_array = np.expand_dims(img3_array,axis = 0)"
      ],
      "metadata": {
        "id": "i3I_DgVozC-V"
      },
      "execution_count": 7,
      "outputs": []
    },
    {
      "cell_type": "code",
      "source": [
        "prediction = model.predict(img1_array)\n",
        "predicted_class = np.argmax(prediction, axis =1)\n",
        "print(f\"Prediction: {predicted_class}\")"
      ],
      "metadata": {
        "colab": {
          "base_uri": "https://localhost:8080/"
        },
        "id": "uiCpF4z23DUu",
        "outputId": "93d146ea-b1e6-4eb5-d262-29e137df02e0"
      },
      "execution_count": 8,
      "outputs": [
        {
          "output_type": "stream",
          "name": "stdout",
          "text": [
            "1/1 [==============================] - 2s 2s/step\n",
            "Prediction: [2]\n"
          ]
        }
      ]
    },
    {
      "cell_type": "code",
      "source": [
        "prediction = model.predict(img2_array)\n",
        "predicted_class = np.argmax(prediction, axis =1)\n",
        "print(f\"Prediction: {predicted_class}\")"
      ],
      "metadata": {
        "colab": {
          "base_uri": "https://localhost:8080/"
        },
        "id": "IVxRUftC4qH3",
        "outputId": "0753814f-109b-47f6-a306-389f23d33181"
      },
      "execution_count": 9,
      "outputs": [
        {
          "output_type": "stream",
          "name": "stdout",
          "text": [
            "1/1 [==============================] - 1s 694ms/step\n",
            "Prediction: [2]\n"
          ]
        }
      ]
    },
    {
      "cell_type": "code",
      "source": [
        "prediction = model.predict(img3_array)\n",
        "predicted_class = np.argmax(prediction, axis =1)\n",
        "print(f\"Prediction: {predicted_class}\")"
      ],
      "metadata": {
        "colab": {
          "base_uri": "https://localhost:8080/"
        },
        "id": "YOYYoAqn5VbR",
        "outputId": "d213e638-41fd-4dc8-b802-24bc8bc5f59c"
      },
      "execution_count": 10,
      "outputs": [
        {
          "output_type": "stream",
          "name": "stdout",
          "text": [
            "1/1 [==============================] - 1s 646ms/step\n",
            "Prediction: [2]\n"
          ]
        }
      ]
    },
    {
      "cell_type": "markdown",
      "source": [
        "# **Adenocacirnoma: 0**"
      ],
      "metadata": {
        "id": "9coCuopyY7RI"
      }
    },
    {
      "cell_type": "code",
      "source": [
        "Adeno1_path = \"/content/gdrive/MyDrive/Final test images/Adenocarcinoma/A1.jpg\"\n",
        "Adeno2_path = \"/content/gdrive/MyDrive/Final test images/Adenocarcinoma/A2.jpg\"\n",
        "Adeno3_path = \"/content/gdrive/MyDrive/Final test images/Adenocarcinoma/A3.jpg\""
      ],
      "metadata": {
        "id": "deQsYZvbZBTw"
      },
      "execution_count": 11,
      "outputs": []
    },
    {
      "cell_type": "code",
      "source": [
        "Adeno1 = image.load_img(Adeno1_path,target_size =(244,244))\n",
        "Adeno2 = image.load_img(Adeno2_path, target_size = (244,244))\n",
        "Adeno3 = image.load_img(Adeno3_path, target_size = (244,244))"
      ],
      "metadata": {
        "id": "q_1njkj4ZVKk"
      },
      "execution_count": 12,
      "outputs": []
    },
    {
      "cell_type": "code",
      "source": [
        "img1_array = image.img_to_array(Adeno1, dtype = 'float32')\n",
        "img1_array = preprocess_input(img1_array)\n",
        "img1_array = np.expand_dims(img1_array,axis = 0)\n",
        "\n",
        "img2_array = image.img_to_array(Adeno2, dtype = 'float32')\n",
        "img2_array = preprocess_input(img2_array)\n",
        "img2_array = np.expand_dims(img2_array,axis = 0)\n",
        "\n",
        "img3_array = image.img_to_array(Adeno3, dtype = 'float32')\n",
        "img3_array = preprocess_input(img3_array)\n",
        "img3_array = np.expand_dims(img3_array,axis = 0)"
      ],
      "metadata": {
        "id": "C9BXsVZbZ1Dg"
      },
      "execution_count": 13,
      "outputs": []
    },
    {
      "cell_type": "code",
      "source": [
        "prediction = model.predict(img1_array)\n",
        "predicted_class = np.argmax(prediction, axis =1)\n",
        "print(f\"Prediction: {predicted_class}\")"
      ],
      "metadata": {
        "colab": {
          "base_uri": "https://localhost:8080/"
        },
        "id": "Jh8vEl80akID",
        "outputId": "413a3727-b59d-4107-844b-1fb1288e7f98"
      },
      "execution_count": 14,
      "outputs": [
        {
          "output_type": "stream",
          "name": "stdout",
          "text": [
            "1/1 [==============================] - 1s 981ms/step\n",
            "Prediction: [0]\n"
          ]
        }
      ]
    },
    {
      "cell_type": "code",
      "source": [
        "prediction = model.predict(img2_array)\n",
        "predicted_class = np.argmax(prediction, axis =1)\n",
        "print(f\"Prediction: {predicted_class}\")"
      ],
      "metadata": {
        "colab": {
          "base_uri": "https://localhost:8080/"
        },
        "id": "UjBz0Ik3au6X",
        "outputId": "a0adf463-6787-4410-83e4-b8be4118154d"
      },
      "execution_count": 15,
      "outputs": [
        {
          "output_type": "stream",
          "name": "stdout",
          "text": [
            "1/1 [==============================] - 1s 930ms/step\n",
            "Prediction: [0]\n"
          ]
        }
      ]
    },
    {
      "cell_type": "code",
      "source": [
        "prediction = model.predict(img3_array)\n",
        "predicted_class = np.argmax(prediction, axis =1)\n",
        "print(f\"Prediction: {predicted_class}\")"
      ],
      "metadata": {
        "colab": {
          "base_uri": "https://localhost:8080/"
        },
        "id": "lsiYoS5BavaP",
        "outputId": "c206753e-b387-49cd-ed60-4abca6c3e721"
      },
      "execution_count": 16,
      "outputs": [
        {
          "output_type": "stream",
          "name": "stdout",
          "text": [
            "1/1 [==============================] - 1s 1s/step\n",
            "Prediction: [0]\n"
          ]
        }
      ]
    },
    {
      "cell_type": "markdown",
      "source": [
        "# **Large cell carcinoma: 1**"
      ],
      "metadata": {
        "id": "Vq9Qv9TKU2nj"
      }
    },
    {
      "cell_type": "code",
      "source": [
        "large1_path = \"/content/gdrive/MyDrive/Final test images/Large cell carcinoma/LCC1.jpg\"\n",
        "large2_path = \"/content/gdrive/MyDrive/Final test images/Large cell carcinoma/LCC2.jpg\"\n",
        "large3_path = \"/content/gdrive/MyDrive/Final test images/Large cell carcinoma/LCC3.jpg\""
      ],
      "metadata": {
        "id": "WfcqHK0N5sCX"
      },
      "execution_count": 30,
      "outputs": []
    },
    {
      "cell_type": "code",
      "source": [
        "LCC1 = image.load_img(large1_path,target_size =(244,244))\n",
        "LCC2 = image.load_img(large2_path, target_size = (244,244))\n",
        "LCC3 = image.load_img(large3_path, target_size = (244,244))"
      ],
      "metadata": {
        "id": "fKYX1bRtWLOl"
      },
      "execution_count": 31,
      "outputs": []
    },
    {
      "cell_type": "code",
      "source": [
        "img1_array = image.img_to_array(LCC1, dtype = 'float32')\n",
        "img1_array = preprocess_input(img1_array)\n",
        "img1_array = np.expand_dims(img1_array,axis = 0)\n",
        "\n",
        "img2_array = image.img_to_array(LCC2, dtype = 'float32')\n",
        "img2_array = preprocess_input(img2_array)\n",
        "img2_array = np.expand_dims(img2_array,axis = 0)\n",
        "\n",
        "img3_array = image.img_to_array(LCC3, dtype = 'float32')\n",
        "img3_array = preprocess_input(img3_array)\n",
        "img3_array = np.expand_dims(img3_array,axis = 0)"
      ],
      "metadata": {
        "id": "e6jx9GyFWgO1"
      },
      "execution_count": 32,
      "outputs": []
    },
    {
      "cell_type": "code",
      "source": [
        "prediction = model.predict(img1_array)\n",
        "predicted_class = np.argmax(prediction, axis =1)\n",
        "print(f\"Prediction: {predicted_class}\")"
      ],
      "metadata": {
        "colab": {
          "base_uri": "https://localhost:8080/"
        },
        "outputId": "c1f62ed2-f324-45b6-cd29-1a84f7bd6513",
        "id": "W5CcEgfeXNOh"
      },
      "execution_count": 33,
      "outputs": [
        {
          "output_type": "stream",
          "name": "stdout",
          "text": [
            "1/1 [==============================] - 1s 914ms/step\n",
            "Prediction: [1]\n"
          ]
        }
      ]
    },
    {
      "cell_type": "code",
      "source": [
        "prediction = model.predict(img2_array)\n",
        "predicted_class = np.argmax(prediction, axis =1)\n",
        "print(f\"Prediction: {predicted_class}\")"
      ],
      "metadata": {
        "colab": {
          "base_uri": "https://localhost:8080/"
        },
        "outputId": "4c6ae9b6-bf9b-4480-cadb-32759e82dcd3",
        "id": "XWr8nsTtXTUj"
      },
      "execution_count": 34,
      "outputs": [
        {
          "output_type": "stream",
          "name": "stdout",
          "text": [
            "1/1 [==============================] - 1s 998ms/step\n",
            "Prediction: [1]\n"
          ]
        }
      ]
    },
    {
      "cell_type": "code",
      "source": [
        "prediction = model.predict(img3_array)\n",
        "predicted_class = np.argmax(prediction, axis =1)\n",
        "print(f\"Prediction: {predicted_class}\")"
      ],
      "metadata": {
        "colab": {
          "base_uri": "https://localhost:8080/"
        },
        "outputId": "d403a8a0-bfc8-441b-a158-38b91cc1e202",
        "id": "RRK8ZbAbXVn2"
      },
      "execution_count": 35,
      "outputs": [
        {
          "output_type": "stream",
          "name": "stdout",
          "text": [
            "1/1 [==============================] - 1s 665ms/step\n",
            "Prediction: [0]\n"
          ]
        }
      ]
    },
    {
      "cell_type": "markdown",
      "source": [
        "# **Squamous Cell Carcinoma: 3**"
      ],
      "metadata": {
        "id": "CR6zwO4Ra8Kx"
      }
    },
    {
      "cell_type": "code",
      "source": [
        "SCC1_path = \"/content/gdrive/MyDrive/Final test images/Squamous cell carcinoma/SCC1.jpeg\"\n",
        "SCC2_path = \"/content/gdrive/MyDrive/Final test images/Squamous cell carcinoma/SCC2.jpeg\"\n",
        "SCC3_path = \"/content/gdrive/MyDrive/Final test images/Squamous cell carcinoma/SCC3.jpeg\""
      ],
      "metadata": {
        "id": "0dqZ8LfrW6mC"
      },
      "execution_count": 36,
      "outputs": []
    },
    {
      "cell_type": "code",
      "source": [
        "SCC1 = image.load_img(SCC1_path,target_size =(244,244))\n",
        "SCC2 = image.load_img(SCC2_path, target_size = (244,244))\n",
        "SCC3 = image.load_img(SCC3_path, target_size = (244,244))"
      ],
      "metadata": {
        "id": "0wdohVIUb-da"
      },
      "execution_count": 37,
      "outputs": []
    },
    {
      "cell_type": "code",
      "source": [
        "img1_array = image.img_to_array(SCC1, dtype = 'float32')\n",
        "img1_array = preprocess_input(img1_array)\n",
        "img1_array = np.expand_dims(img1_array,axis = 0)\n",
        "\n",
        "img2_array = image.img_to_array(SCC2, dtype = 'float32')\n",
        "img2_array = preprocess_input(img2_array)\n",
        "img2_array = np.expand_dims(img2_array,axis = 0)\n",
        "\n",
        "img3_array = image.img_to_array(SCC3, dtype = 'float32')\n",
        "img3_array = preprocess_input(img3_array)\n",
        "img3_array = np.expand_dims(img3_array,axis = 0)"
      ],
      "metadata": {
        "id": "NI-XnWpJcTi3"
      },
      "execution_count": 38,
      "outputs": []
    },
    {
      "cell_type": "code",
      "source": [
        "prediction = model.predict(img1_array)\n",
        "predicted_class = np.argmax(prediction, axis =1)\n",
        "print(f\"Prediction: {predicted_class}\")"
      ],
      "metadata": {
        "colab": {
          "base_uri": "https://localhost:8080/"
        },
        "id": "77TSzWXbcW5o",
        "outputId": "466d8bcf-2642-4f56-fc92-0d9ea7e06f6e"
      },
      "execution_count": 39,
      "outputs": [
        {
          "output_type": "stream",
          "name": "stdout",
          "text": [
            "1/1 [==============================] - 1s 552ms/step\n",
            "Prediction: [3]\n"
          ]
        }
      ]
    },
    {
      "cell_type": "code",
      "source": [
        "prediction = model.predict(img2_array)\n",
        "predicted_class = np.argmax(prediction, axis =1)\n",
        "print(f\"Prediction: {predicted_class}\")"
      ],
      "metadata": {
        "colab": {
          "base_uri": "https://localhost:8080/"
        },
        "id": "pOeoie-7cfBA",
        "outputId": "89dbf6d9-92a1-4bde-aba1-03b7213c21fd"
      },
      "execution_count": 40,
      "outputs": [
        {
          "output_type": "stream",
          "name": "stdout",
          "text": [
            "1/1 [==============================] - 1s 590ms/step\n",
            "Prediction: [1]\n"
          ]
        }
      ]
    },
    {
      "cell_type": "code",
      "source": [
        "prediction = model.predict(img3_array)\n",
        "predicted_class = np.argmax(prediction, axis =1)\n",
        "print(f\"Prediction: {predicted_class}\")"
      ],
      "metadata": {
        "colab": {
          "base_uri": "https://localhost:8080/"
        },
        "id": "CvBh1vubcfSf",
        "outputId": "7f33793d-00f0-42fb-badc-70b7ba3d7ca1"
      },
      "execution_count": 41,
      "outputs": [
        {
          "output_type": "stream",
          "name": "stdout",
          "text": [
            "1/1 [==============================] - 1s 560ms/step\n",
            "Prediction: [3]\n"
          ]
        }
      ]
    },
    {
      "cell_type": "code",
      "source": [],
      "metadata": {
        "id": "2MkXxA1Xcvzk"
      },
      "execution_count": 41,
      "outputs": []
    }
  ]
}